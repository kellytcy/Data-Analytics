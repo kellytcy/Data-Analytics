{
 "cells": [
  {
   "cell_type": "code",
   "execution_count": 1,
   "metadata": {},
   "outputs": [
    {
     "data": {
      "text/html": [
       "<script>\n",
       "code_show=true; \n",
       "function code_toggle() {\n",
       "    if (code_show){\n",
       "        $('div.cell.code_cell.rendered.selected div.input').hide();\n",
       "    } else {\n",
       "        $('div.cell.code_cell.rendered.selected div.input').show();\n",
       "    }\n",
       "    code_show = !code_show\n",
       "} \n",
       "$( document ).ready(code_toggle);\n",
       "</script>\n",
       "<style>\n",
       ".border { border-width: 2px; border-color: black; border-style: solid; } \n",
       "</style>\n"
      ],
      "text/plain": [
       "<IPython.core.display.HTML object>"
      ]
     },
     "metadata": {},
     "output_type": "display_data"
    }
   ],
   "source": [
    "from IPython.display import HTML\n",
    "from IPython.display import display\n",
    "tag = HTML('''<script>\n",
    "code_show=true; \n",
    "function code_toggle() {\n",
    "    if (code_show){\n",
    "        $('div.cell.code_cell.rendered.selected div.input').hide();\n",
    "    } else {\n",
    "        $('div.cell.code_cell.rendered.selected div.input').show();\n",
    "    }\n",
    "    code_show = !code_show\n",
    "} \n",
    "$( document ).ready(code_toggle);\n",
    "</script>\n",
    "<style>\n",
    ".border { border-width: 2px; border-color: black; border-style: solid; } \n",
    "</style>\n",
    "''')\n",
    "display(tag)"
   ]
  },
  {
   "cell_type": "markdown",
   "metadata": {},
   "source": [
    "# Programming in Python II - Project\n",
    "---"
   ]
  },
  {
   "cell_type": "markdown",
   "metadata": {},
   "source": [
    "For this project, you have to provide the solutions for the following 3 questions. Code your answers directly into the cell after each question. Be sure to run them to ensure that your code works.\n",
    "After you have filled up the answers, proceed back to where you downloaded this file to submit your solutions!\n",
    "\n",
    "All the best!"
   ]
  },
  {
   "cell_type": "markdown",
   "metadata": {},
   "source": [
    "---"
   ]
  },
  {
   "cell_type": "markdown",
   "metadata": {},
   "source": [
    "## Question 1 - Advanced Python"
   ]
  },
  {
   "cell_type": "markdown",
   "metadata": {},
   "source": [
    "### Given the following statements containing a list with 3 tuples (each tuple describes a book title, pages, and price):"
   ]
  },
  {
   "cell_type": "code",
   "execution_count": 4,
   "metadata": {},
   "outputs": [],
   "source": [
    "lst = [('Beginning iOS Programming', 534, 34.99), \n",
    "       ('Beginning Android Programming', 484, 29.99), \n",
    "       ('Python Machine Learning', 284, 39.99)]\n",
    "\n"
   ]
  },
  {
   "cell_type": "markdown",
   "metadata": {},
   "source": [
    "### Using a lambda function, write the statement to sort the list of tuples based on:"
   ]
  },
  {
   "cell_type": "markdown",
   "metadata": {},
   "source": [
    "### a. Book Title (alphabetical order)\n"
   ]
  },
  {
   "cell_type": "code",
   "execution_count": 5,
   "metadata": {},
   "outputs": [
    {
     "name": "stdout",
     "output_type": "stream",
     "text": [
      "[('Beginning Android Programming', 484, 29.99), ('Beginning iOS Programming', 534, 34.99), ('Python Machine Learning', 284, 39.99)]\n"
     ]
    }
   ],
   "source": [
    "lst.sort(key = lambda x: x[0])\n",
    "print(lst)\n"
   ]
  },
  {
   "cell_type": "markdown",
   "metadata": {},
   "source": [
    "### b. Number of Pages (ascending order)"
   ]
  },
  {
   "cell_type": "code",
   "execution_count": 7,
   "metadata": {},
   "outputs": [
    {
     "name": "stdout",
     "output_type": "stream",
     "text": [
      "[('Python Machine Learning', 284, 39.99), ('Beginning Android Programming', 484, 29.99), ('Beginning iOS Programming', 534, 34.99)]\n"
     ]
    }
   ],
   "source": [
    "lst.sort(key = lambda x: x[1])\n",
    "print(lst)\n",
    "\n",
    "\n",
    "\n"
   ]
  },
  {
   "cell_type": "markdown",
   "metadata": {},
   "source": [
    "### c. Price (descending order; i.e. most expensive to the cheapest)"
   ]
  },
  {
   "cell_type": "code",
   "execution_count": 8,
   "metadata": {},
   "outputs": [
    {
     "name": "stdout",
     "output_type": "stream",
     "text": [
      "[('Python Machine Learning', 284, 39.99), ('Beginning iOS Programming', 534, 34.99), ('Beginning Android Programming', 484, 29.99)]\n"
     ]
    }
   ],
   "source": [
    "lst.sort(key = lambda x: x[2], reverse = True)\n",
    "print(lst)\n",
    "\n",
    "\n",
    "\n"
   ]
  },
  {
   "cell_type": "markdown",
   "metadata": {},
   "source": [
    "---"
   ]
  },
  {
   "cell_type": "markdown",
   "metadata": {},
   "source": [
    "## Question 2 - NumPy"
   ]
  },
  {
   "cell_type": "markdown",
   "metadata": {},
   "source": [
    "Given the following code:"
   ]
  },
  {
   "cell_type": "code",
   "execution_count": 255,
   "metadata": {},
   "outputs": [],
   "source": [
    "import numpy as np\n",
    "a1 = np.round(20 * np.random.random((4,5)), 2)"
   ]
  },
  {
   "cell_type": "markdown",
   "metadata": {},
   "source": [
    "### a. Print out the `a1` array.\n"
   ]
  },
  {
   "cell_type": "code",
   "execution_count": 307,
   "metadata": {},
   "outputs": [
    {
     "name": "stdout",
     "output_type": "stream",
     "text": [
      "[[ 0.86 12.08  0.14  9.58  1.46]\n",
      " [17.14 17.86 19.74  5.61  0.81]\n",
      " [14.87 13.7   3.29 18.07 15.53]\n",
      " [ 7.81 15.05  7.6   5.54  4.58]]\n"
     ]
    }
   ],
   "source": [
    "print(a1)\n",
    "\n",
    "\n"
   ]
  },
  {
   "cell_type": "markdown",
   "metadata": {},
   "source": [
    "### b. Find and list out the mean of each row in the array\n"
   ]
  },
  {
   "cell_type": "code",
   "execution_count": 308,
   "metadata": {},
   "outputs": [
    {
     "data": {
      "text/plain": [
       "array([ 4.824, 12.232, 13.092,  8.116])"
      ]
     },
     "execution_count": 308,
     "metadata": {},
     "output_type": "execute_result"
    }
   ],
   "source": [
    "np.mean(a1, axis = 1)\n",
    "\n"
   ]
  },
  {
   "cell_type": "markdown",
   "metadata": {},
   "source": [
    "### c. In the `a1` array, find the number that is closest to the smallest mean.\n",
    "<i>Hint: You will need to use a combination of numpy functions such as flat, abs, and argmin)</i>"
   ]
  },
  {
   "cell_type": "code",
   "execution_count": 310,
   "metadata": {},
   "outputs": [
    {
     "name": "stdout",
     "output_type": "stream",
     "text": [
      "[4.58]\n"
     ]
    }
   ],
   "source": [
    "smallest_mean = 4.824\n",
    "absolute_difference_array = np.abs(a1 - smallest_mean)\n",
    "\n",
    "smallest_difference_index = np.where(absolute_difference_array == absolute_difference_array.min())\n",
    "\n",
    "closest_number = a1[smallest_difference_index[0], smallest_difference_index[1]]\n",
    "\n",
    "print(closest_number)\n",
    "\n"
   ]
  },
  {
   "cell_type": "markdown",
   "metadata": {},
   "source": [
    "---"
   ]
  },
  {
   "cell_type": "markdown",
   "metadata": {},
   "source": [
    "## Question 3 - Pandas"
   ]
  },
  {
   "cell_type": "markdown",
   "metadata": {},
   "source": [
    "For this question, you are given the following dataset - <b>Automobile_data.csv</b>."
   ]
  },
  {
   "cell_type": "code",
   "execution_count": 311,
   "metadata": {},
   "outputs": [],
   "source": [
    "import pandas as pd\n",
    "\n",
    "df = pd.read_csv(\"Automobile_data.csv\")"
   ]
  },
  {
   "cell_type": "markdown",
   "metadata": {},
   "source": [
    "### a. Print the first 5 rows and the last 7 rows of the dataset, like this:\n",
    "<img src=\"attachment:image.png\" width=\"800\" class=\"border\">"
   ]
  },
  {
   "cell_type": "markdown",
   "metadata": {},
   "source": [
    "\n",
    "<img src=\"attachment:image.PNG\" width=\"800\" class=\"border\">"
   ]
  },
  {
   "cell_type": "code",
   "execution_count": 312,
   "metadata": {},
   "outputs": [
    {
     "data": {
      "text/html": [
       "<div>\n",
       "<style scoped>\n",
       "    .dataframe tbody tr th:only-of-type {\n",
       "        vertical-align: middle;\n",
       "    }\n",
       "\n",
       "    .dataframe tbody tr th {\n",
       "        vertical-align: top;\n",
       "    }\n",
       "\n",
       "    .dataframe thead th {\n",
       "        text-align: right;\n",
       "    }\n",
       "</style>\n",
       "<table border=\"1\" class=\"dataframe\">\n",
       "  <thead>\n",
       "    <tr style=\"text-align: right;\">\n",
       "      <th></th>\n",
       "      <th>index</th>\n",
       "      <th>company</th>\n",
       "      <th>body-style</th>\n",
       "      <th>wheel-base</th>\n",
       "      <th>length</th>\n",
       "      <th>engine-type</th>\n",
       "      <th>num-of-cylinders</th>\n",
       "      <th>horsepower</th>\n",
       "      <th>average-mileage</th>\n",
       "      <th>price</th>\n",
       "    </tr>\n",
       "  </thead>\n",
       "  <tbody>\n",
       "    <tr>\n",
       "      <th>0</th>\n",
       "      <td>0</td>\n",
       "      <td>alfa-romero</td>\n",
       "      <td>convertible</td>\n",
       "      <td>88.6</td>\n",
       "      <td>168.8</td>\n",
       "      <td>dohc</td>\n",
       "      <td>four</td>\n",
       "      <td>111</td>\n",
       "      <td>21</td>\n",
       "      <td>13495.0</td>\n",
       "    </tr>\n",
       "    <tr>\n",
       "      <th>1</th>\n",
       "      <td>1</td>\n",
       "      <td>alfa-romero</td>\n",
       "      <td>convertible</td>\n",
       "      <td>88.6</td>\n",
       "      <td>168.8</td>\n",
       "      <td>dohc</td>\n",
       "      <td>four</td>\n",
       "      <td>111</td>\n",
       "      <td>21</td>\n",
       "      <td>16500.0</td>\n",
       "    </tr>\n",
       "    <tr>\n",
       "      <th>2</th>\n",
       "      <td>2</td>\n",
       "      <td>alfa-romero</td>\n",
       "      <td>hatchback</td>\n",
       "      <td>94.5</td>\n",
       "      <td>171.2</td>\n",
       "      <td>ohcv</td>\n",
       "      <td>six</td>\n",
       "      <td>154</td>\n",
       "      <td>19</td>\n",
       "      <td>16500.0</td>\n",
       "    </tr>\n",
       "    <tr>\n",
       "      <th>3</th>\n",
       "      <td>3</td>\n",
       "      <td>audi</td>\n",
       "      <td>sedan</td>\n",
       "      <td>99.8</td>\n",
       "      <td>176.6</td>\n",
       "      <td>ohc</td>\n",
       "      <td>four</td>\n",
       "      <td>102</td>\n",
       "      <td>24</td>\n",
       "      <td>13950.0</td>\n",
       "    </tr>\n",
       "    <tr>\n",
       "      <th>4</th>\n",
       "      <td>4</td>\n",
       "      <td>audi</td>\n",
       "      <td>sedan</td>\n",
       "      <td>99.4</td>\n",
       "      <td>176.6</td>\n",
       "      <td>ohc</td>\n",
       "      <td>five</td>\n",
       "      <td>115</td>\n",
       "      <td>18</td>\n",
       "      <td>17450.0</td>\n",
       "    </tr>\n",
       "  </tbody>\n",
       "</table>\n",
       "</div>"
      ],
      "text/plain": [
       "   index      company   body-style  wheel-base  length engine-type  \\\n",
       "0      0  alfa-romero  convertible        88.6   168.8        dohc   \n",
       "1      1  alfa-romero  convertible        88.6   168.8        dohc   \n",
       "2      2  alfa-romero    hatchback        94.5   171.2        ohcv   \n",
       "3      3         audi        sedan        99.8   176.6         ohc   \n",
       "4      4         audi        sedan        99.4   176.6         ohc   \n",
       "\n",
       "  num-of-cylinders  horsepower  average-mileage    price  \n",
       "0             four         111               21  13495.0  \n",
       "1             four         111               21  16500.0  \n",
       "2              six         154               19  16500.0  \n",
       "3             four         102               24  13950.0  \n",
       "4             five         115               18  17450.0  "
      ]
     },
     "execution_count": 312,
     "metadata": {},
     "output_type": "execute_result"
    }
   ],
   "source": [
    "df.head()\n"
   ]
  },
  {
   "cell_type": "code",
   "execution_count": 313,
   "metadata": {},
   "outputs": [
    {
     "data": {
      "text/html": [
       "<div>\n",
       "<style scoped>\n",
       "    .dataframe tbody tr th:only-of-type {\n",
       "        vertical-align: middle;\n",
       "    }\n",
       "\n",
       "    .dataframe tbody tr th {\n",
       "        vertical-align: top;\n",
       "    }\n",
       "\n",
       "    .dataframe thead th {\n",
       "        text-align: right;\n",
       "    }\n",
       "</style>\n",
       "<table border=\"1\" class=\"dataframe\">\n",
       "  <thead>\n",
       "    <tr style=\"text-align: right;\">\n",
       "      <th></th>\n",
       "      <th>index</th>\n",
       "      <th>company</th>\n",
       "      <th>body-style</th>\n",
       "      <th>wheel-base</th>\n",
       "      <th>length</th>\n",
       "      <th>engine-type</th>\n",
       "      <th>num-of-cylinders</th>\n",
       "      <th>horsepower</th>\n",
       "      <th>average-mileage</th>\n",
       "      <th>price</th>\n",
       "    </tr>\n",
       "  </thead>\n",
       "  <tbody>\n",
       "    <tr>\n",
       "      <th>54</th>\n",
       "      <td>79</td>\n",
       "      <td>toyota</td>\n",
       "      <td>wagon</td>\n",
       "      <td>104.5</td>\n",
       "      <td>187.8</td>\n",
       "      <td>dohc</td>\n",
       "      <td>six</td>\n",
       "      <td>156</td>\n",
       "      <td>19</td>\n",
       "      <td>15750.0</td>\n",
       "    </tr>\n",
       "    <tr>\n",
       "      <th>55</th>\n",
       "      <td>80</td>\n",
       "      <td>volkswagen</td>\n",
       "      <td>sedan</td>\n",
       "      <td>97.3</td>\n",
       "      <td>171.7</td>\n",
       "      <td>ohc</td>\n",
       "      <td>four</td>\n",
       "      <td>52</td>\n",
       "      <td>37</td>\n",
       "      <td>7775.0</td>\n",
       "    </tr>\n",
       "    <tr>\n",
       "      <th>56</th>\n",
       "      <td>81</td>\n",
       "      <td>volkswagen</td>\n",
       "      <td>sedan</td>\n",
       "      <td>97.3</td>\n",
       "      <td>171.7</td>\n",
       "      <td>ohc</td>\n",
       "      <td>four</td>\n",
       "      <td>85</td>\n",
       "      <td>27</td>\n",
       "      <td>7975.0</td>\n",
       "    </tr>\n",
       "    <tr>\n",
       "      <th>57</th>\n",
       "      <td>82</td>\n",
       "      <td>volkswagen</td>\n",
       "      <td>sedan</td>\n",
       "      <td>97.3</td>\n",
       "      <td>171.7</td>\n",
       "      <td>ohc</td>\n",
       "      <td>four</td>\n",
       "      <td>52</td>\n",
       "      <td>37</td>\n",
       "      <td>7995.0</td>\n",
       "    </tr>\n",
       "    <tr>\n",
       "      <th>58</th>\n",
       "      <td>86</td>\n",
       "      <td>volkswagen</td>\n",
       "      <td>sedan</td>\n",
       "      <td>97.3</td>\n",
       "      <td>171.7</td>\n",
       "      <td>ohc</td>\n",
       "      <td>four</td>\n",
       "      <td>100</td>\n",
       "      <td>26</td>\n",
       "      <td>9995.0</td>\n",
       "    </tr>\n",
       "    <tr>\n",
       "      <th>59</th>\n",
       "      <td>87</td>\n",
       "      <td>volvo</td>\n",
       "      <td>sedan</td>\n",
       "      <td>104.3</td>\n",
       "      <td>188.8</td>\n",
       "      <td>ohc</td>\n",
       "      <td>four</td>\n",
       "      <td>114</td>\n",
       "      <td>23</td>\n",
       "      <td>12940.0</td>\n",
       "    </tr>\n",
       "    <tr>\n",
       "      <th>60</th>\n",
       "      <td>88</td>\n",
       "      <td>volvo</td>\n",
       "      <td>wagon</td>\n",
       "      <td>104.3</td>\n",
       "      <td>188.8</td>\n",
       "      <td>ohc</td>\n",
       "      <td>four</td>\n",
       "      <td>114</td>\n",
       "      <td>23</td>\n",
       "      <td>13415.0</td>\n",
       "    </tr>\n",
       "  </tbody>\n",
       "</table>\n",
       "</div>"
      ],
      "text/plain": [
       "    index     company body-style  wheel-base  length engine-type  \\\n",
       "54     79      toyota      wagon       104.5   187.8        dohc   \n",
       "55     80  volkswagen      sedan        97.3   171.7         ohc   \n",
       "56     81  volkswagen      sedan        97.3   171.7         ohc   \n",
       "57     82  volkswagen      sedan        97.3   171.7         ohc   \n",
       "58     86  volkswagen      sedan        97.3   171.7         ohc   \n",
       "59     87       volvo      sedan       104.3   188.8         ohc   \n",
       "60     88       volvo      wagon       104.3   188.8         ohc   \n",
       "\n",
       "   num-of-cylinders  horsepower  average-mileage    price  \n",
       "54              six         156               19  15750.0  \n",
       "55             four          52               37   7775.0  \n",
       "56             four          85               27   7975.0  \n",
       "57             four          52               37   7995.0  \n",
       "58             four         100               26   9995.0  \n",
       "59             four         114               23  12940.0  \n",
       "60             four         114               23  13415.0  "
      ]
     },
     "execution_count": 313,
     "metadata": {},
     "output_type": "execute_result"
    }
   ],
   "source": [
    "df.tail(7)\n"
   ]
  },
  {
   "cell_type": "markdown",
   "metadata": {},
   "source": [
    "### b. Find the company with the most expensive  car:\n",
    "\n",
    "<img src=\"attachment:image.png\" width=\"200\" class=\"border\">"
   ]
  },
  {
   "cell_type": "code",
   "execution_count": 314,
   "metadata": {},
   "outputs": [
    {
     "data": {
      "text/html": [
       "<div>\n",
       "<style scoped>\n",
       "    .dataframe tbody tr th:only-of-type {\n",
       "        vertical-align: middle;\n",
       "    }\n",
       "\n",
       "    .dataframe tbody tr th {\n",
       "        vertical-align: top;\n",
       "    }\n",
       "\n",
       "    .dataframe thead th {\n",
       "        text-align: right;\n",
       "    }\n",
       "</style>\n",
       "<table border=\"1\" class=\"dataframe\">\n",
       "  <thead>\n",
       "    <tr style=\"text-align: right;\">\n",
       "      <th></th>\n",
       "      <th>company</th>\n",
       "      <th>price</th>\n",
       "    </tr>\n",
       "  </thead>\n",
       "  <tbody>\n",
       "    <tr>\n",
       "      <th>35</th>\n",
       "      <td>mercedes-benz</td>\n",
       "      <td>45400.0</td>\n",
       "    </tr>\n",
       "  </tbody>\n",
       "</table>\n",
       "</div>"
      ],
      "text/plain": [
       "          company    price\n",
       "35  mercedes-benz  45400.0"
      ]
     },
     "execution_count": 314,
     "metadata": {},
     "output_type": "execute_result"
    }
   ],
   "source": [
    "company_most_exp_car = df[['company', 'price']][df['price'] == df['price'].max()]\n",
    "\n",
    "company_most_exp_car\n",
    "\n",
    "\n",
    "\n",
    "\n"
   ]
  },
  {
   "attachments": {
    "image.png": {
     "image/png": "[encoded data removed]"
    }
   },
   "cell_type": "markdown",
   "metadata": {},
   "source": [
    "### c. Write the statements to print out each company’s most expensive car:\n",
    "<!-- <img src=\"attachment:image.png\" width=\"250\" class=\"border\"> -->\n",
    "\n",
    "![image.png](attachment:image.png)"
   ]
  },
  {
   "cell_type": "code",
   "execution_count": 315,
   "metadata": {},
   "outputs": [
    {
     "data": {
      "text/html": [
       "<div>\n",
       "<style scoped>\n",
       "    .dataframe tbody tr th:only-of-type {\n",
       "        vertical-align: middle;\n",
       "    }\n",
       "\n",
       "    .dataframe tbody tr th {\n",
       "        vertical-align: top;\n",
       "    }\n",
       "\n",
       "    .dataframe thead th {\n",
       "        text-align: right;\n",
       "    }\n",
       "</style>\n",
       "<table border=\"1\" class=\"dataframe\">\n",
       "  <thead>\n",
       "    <tr style=\"text-align: right;\">\n",
       "      <th></th>\n",
       "      <th>price</th>\n",
       "    </tr>\n",
       "    <tr>\n",
       "      <th>company</th>\n",
       "      <th></th>\n",
       "    </tr>\n",
       "  </thead>\n",
       "  <tbody>\n",
       "    <tr>\n",
       "      <th>alfa-romero</th>\n",
       "      <td>16500.0</td>\n",
       "    </tr>\n",
       "    <tr>\n",
       "      <th>audi</th>\n",
       "      <td>18920.0</td>\n",
       "    </tr>\n",
       "    <tr>\n",
       "      <th>bmw</th>\n",
       "      <td>41315.0</td>\n",
       "    </tr>\n",
       "    <tr>\n",
       "      <th>chevrolet</th>\n",
       "      <td>6575.0</td>\n",
       "    </tr>\n",
       "    <tr>\n",
       "      <th>dodge</th>\n",
       "      <td>6377.0</td>\n",
       "    </tr>\n",
       "    <tr>\n",
       "      <th>honda</th>\n",
       "      <td>12945.0</td>\n",
       "    </tr>\n",
       "    <tr>\n",
       "      <th>isuzu</th>\n",
       "      <td>6785.0</td>\n",
       "    </tr>\n",
       "    <tr>\n",
       "      <th>jaguar</th>\n",
       "      <td>36000.0</td>\n",
       "    </tr>\n",
       "    <tr>\n",
       "      <th>mazda</th>\n",
       "      <td>18344.0</td>\n",
       "    </tr>\n",
       "    <tr>\n",
       "      <th>mercedes-benz</th>\n",
       "      <td>45400.0</td>\n",
       "    </tr>\n",
       "    <tr>\n",
       "      <th>mitsubishi</th>\n",
       "      <td>8189.0</td>\n",
       "    </tr>\n",
       "    <tr>\n",
       "      <th>nissan</th>\n",
       "      <td>13499.0</td>\n",
       "    </tr>\n",
       "    <tr>\n",
       "      <th>porsche</th>\n",
       "      <td>37028.0</td>\n",
       "    </tr>\n",
       "    <tr>\n",
       "      <th>toyota</th>\n",
       "      <td>15750.0</td>\n",
       "    </tr>\n",
       "    <tr>\n",
       "      <th>volkswagen</th>\n",
       "      <td>9995.0</td>\n",
       "    </tr>\n",
       "    <tr>\n",
       "      <th>volvo</th>\n",
       "      <td>13415.0</td>\n",
       "    </tr>\n",
       "  </tbody>\n",
       "</table>\n",
       "</div>"
      ],
      "text/plain": [
       "                 price\n",
       "company               \n",
       "alfa-romero    16500.0\n",
       "audi           18920.0\n",
       "bmw            41315.0\n",
       "chevrolet       6575.0\n",
       "dodge           6377.0\n",
       "honda          12945.0\n",
       "isuzu           6785.0\n",
       "jaguar         36000.0\n",
       "mazda          18344.0\n",
       "mercedes-benz  45400.0\n",
       "mitsubishi      8189.0\n",
       "nissan         13499.0\n",
       "porsche        37028.0\n",
       "toyota         15750.0\n",
       "volkswagen      9995.0\n",
       "volvo          13415.0"
      ]
     },
     "execution_count": 315,
     "metadata": {},
     "output_type": "execute_result"
    }
   ],
   "source": [
    "most_exp_car_by_company = df[['price']].groupby(df['company']).max()\n",
    "\n",
    "most_exp_car_by_company\n",
    "\n",
    "\n",
    "\n",
    "\n"
   ]
  },
  {
   "cell_type": "markdown",
   "metadata": {},
   "source": [
    "### d. Write the statements to print out the average mileage of each car maker:\n",
    "\n",
    "<img src=\"attachment:image.png\" width=\"250\" class=\"border\">"
   ]
  },
  {
   "cell_type": "code",
   "execution_count": 316,
   "metadata": {},
   "outputs": [
    {
     "data": {
      "text/html": [
       "<div>\n",
       "<style scoped>\n",
       "    .dataframe tbody tr th:only-of-type {\n",
       "        vertical-align: middle;\n",
       "    }\n",
       "\n",
       "    .dataframe tbody tr th {\n",
       "        vertical-align: top;\n",
       "    }\n",
       "\n",
       "    .dataframe thead th {\n",
       "        text-align: right;\n",
       "    }\n",
       "</style>\n",
       "<table border=\"1\" class=\"dataframe\">\n",
       "  <thead>\n",
       "    <tr style=\"text-align: right;\">\n",
       "      <th></th>\n",
       "      <th>average-mileage</th>\n",
       "    </tr>\n",
       "    <tr>\n",
       "      <th>company</th>\n",
       "      <th></th>\n",
       "    </tr>\n",
       "  </thead>\n",
       "  <tbody>\n",
       "    <tr>\n",
       "      <th>alfa-romero</th>\n",
       "      <td>20.333333</td>\n",
       "    </tr>\n",
       "    <tr>\n",
       "      <th>audi</th>\n",
       "      <td>20.000000</td>\n",
       "    </tr>\n",
       "    <tr>\n",
       "      <th>bmw</th>\n",
       "      <td>19.000000</td>\n",
       "    </tr>\n",
       "    <tr>\n",
       "      <th>chevrolet</th>\n",
       "      <td>41.000000</td>\n",
       "    </tr>\n",
       "    <tr>\n",
       "      <th>dodge</th>\n",
       "      <td>31.000000</td>\n",
       "    </tr>\n",
       "    <tr>\n",
       "      <th>honda</th>\n",
       "      <td>26.333333</td>\n",
       "    </tr>\n",
       "    <tr>\n",
       "      <th>isuzu</th>\n",
       "      <td>33.333333</td>\n",
       "    </tr>\n",
       "    <tr>\n",
       "      <th>jaguar</th>\n",
       "      <td>14.333333</td>\n",
       "    </tr>\n",
       "    <tr>\n",
       "      <th>mazda</th>\n",
       "      <td>28.000000</td>\n",
       "    </tr>\n",
       "    <tr>\n",
       "      <th>mercedes-benz</th>\n",
       "      <td>18.000000</td>\n",
       "    </tr>\n",
       "    <tr>\n",
       "      <th>mitsubishi</th>\n",
       "      <td>29.500000</td>\n",
       "    </tr>\n",
       "    <tr>\n",
       "      <th>nissan</th>\n",
       "      <td>31.400000</td>\n",
       "    </tr>\n",
       "    <tr>\n",
       "      <th>porsche</th>\n",
       "      <td>17.000000</td>\n",
       "    </tr>\n",
       "    <tr>\n",
       "      <th>toyota</th>\n",
       "      <td>28.714286</td>\n",
       "    </tr>\n",
       "    <tr>\n",
       "      <th>volkswagen</th>\n",
       "      <td>31.750000</td>\n",
       "    </tr>\n",
       "    <tr>\n",
       "      <th>volvo</th>\n",
       "      <td>23.000000</td>\n",
       "    </tr>\n",
       "  </tbody>\n",
       "</table>\n",
       "</div>"
      ],
      "text/plain": [
       "               average-mileage\n",
       "company                       \n",
       "alfa-romero          20.333333\n",
       "audi                 20.000000\n",
       "bmw                  19.000000\n",
       "chevrolet            41.000000\n",
       "dodge                31.000000\n",
       "honda                26.333333\n",
       "isuzu                33.333333\n",
       "jaguar               14.333333\n",
       "mazda                28.000000\n",
       "mercedes-benz        18.000000\n",
       "mitsubishi           29.500000\n",
       "nissan               31.400000\n",
       "porsche              17.000000\n",
       "toyota               28.714286\n",
       "volkswagen           31.750000\n",
       "volvo                23.000000"
      ]
     },
     "execution_count": 316,
     "metadata": {},
     "output_type": "execute_result"
    }
   ],
   "source": [
    "avg_mileage_company = df[['average-mileage']].groupby(df['company']).mean()\n",
    "\n",
    "avg_mileage_company\n",
    "\n",
    "\n",
    "\n"
   ]
  },
  {
   "cell_type": "markdown",
   "metadata": {},
   "source": [
    "### f. You are tasked to create a program to help a user quickly extract rows of interest, up to two column names and their values. \n",
    "\n",
    "``` \n",
    "Hints: \n",
    "1) Create a function that accepts variable number of parameters\n",
    "2) Prompt the user to enter the first column name (e.g., company)\n",
    "3) Prompt the user to enter the first column value (e.g., dodge)\n",
    "4) Prompt the user to enter the second column name (e.g., num-of-cylinders) \n",
    "(Note: if user enters 'exit', it indicates they only wish to search by the first column name and value)\n",
    "5) Prompt the user to enter the second column value (e.g., six) (Only applicable if user doesn't enter 'exit' in the previous input.)\n",
    "6) Call the function you have created in part 1 to display the result.\n",
    "\n",
    "Note: In the above example, no results will be returned i.e., there are no dodge cars with six cyclinders.\n",
    "```"
   ]
  },
  {
   "cell_type": "markdown",
   "metadata": {},
   "source": [
    "### e. For each car maker, print out the car maker’s name, and show the price of each car (from most expensive to cheapest), like this:\n",
    "\n",
    "```\n",
    "alfa-romero\n",
    "-----------\n",
    "hatchback $16500.0\n",
    "convertible $16500.0\n",
    "convertible $13495.0\n",
    "\n",
    "audi\n",
    "----\n",
    "wagon $18920.0\n",
    "sedan $17450.0\n",
    "sedan $15250.0\n",
    "sedan $13950.0\n",
    "\n",
    "...\n",
    "\n",
    "mercedes-benz\n",
    "-------------\n",
    "hardtop $45400.0\n",
    "sedan $40960.0\n",
    "wagon $28248.0\n",
    "sedan $25552.0\n",
    "\n",
    "mitsubishi\n",
    "----------\n",
    "sedan $8189.0\n",
    "sedan $6989.0\n",
    "hatchback $6189.0\n",
    "hatchback $5389.0\n",
    "\n",
    "...\n",
    "\n",
    "volkswagen\n",
    "----------\n",
    "sedan $9995.0\n",
    "sedan $7995.0\n",
    "sedan $7975.0\n",
    "sedan $7775.0\n",
    "\n",
    "volvo\n",
    "-----\n",
    "wagon $13415.0\n",
    "sedan $12940.0\n",
    "```"
   ]
  },
  {
   "cell_type": "code",
   "execution_count": 317,
   "metadata": {
    "scrolled": false
   },
   "outputs": [
    {
     "name": "stdout",
     "output_type": "stream",
     "text": [
      "alfa-romero\n",
      "-----------\n",
      "hatchback $16500.0\n",
      "convertible $16500.0\n",
      "convertible $13495.0\n",
      "\n",
      "audi\n",
      "----\n",
      "wagon $18920.0\n",
      "sedan $17450.0\n",
      "sedan $15250.0\n",
      "sedan $13950.0\n",
      "\n",
      "bmw\n",
      "---\n",
      "sedan $41315.0\n",
      "sedan $36880.0\n",
      "sedan $30760.0\n",
      "sedan $20970.0\n",
      "sedan $16925.0\n",
      "sedan $16430.0\n",
      "\n",
      "chevrolet\n",
      "---------\n",
      "sedan $6575.0\n",
      "hatchback $6295.0\n",
      "hatchback $5151.0\n",
      "\n",
      "dodge\n",
      "-----\n",
      "hatchback $6377.0\n",
      "hatchback $6229.0\n",
      "\n",
      "honda\n",
      "-----\n",
      "sedan $12945.0\n",
      "sedan $10345.0\n",
      "wagon $7295.0\n",
      "\n",
      "isuzu\n",
      "-----\n",
      "sedan $6785.0\n",
      "sedan $nan\n",
      "sedan $nan\n",
      "\n",
      "jaguar\n",
      "------\n",
      "sedan $36000.0\n",
      "sedan $35550.0\n",
      "sedan $32250.0\n",
      "\n",
      "mazda\n",
      "-----\n",
      "sedan $18344.0\n",
      "hatchback $11845.0\n",
      "hatchback $6795.0\n",
      "hatchback $6095.0\n",
      "hatchback $5195.0\n",
      "\n",
      "mercedes-benz\n",
      "-------------\n",
      "hardtop $45400.0\n",
      "sedan $40960.0\n",
      "wagon $28248.0\n",
      "sedan $25552.0\n",
      "\n",
      "mitsubishi\n",
      "----------\n",
      "sedan $8189.0\n",
      "sedan $6989.0\n",
      "hatchback $6189.0\n",
      "hatchback $5389.0\n",
      "\n",
      "nissan\n",
      "------\n",
      "sedan $13499.0\n",
      "wagon $7349.0\n",
      "sedan $7099.0\n",
      "sedan $6849.0\n",
      "sedan $6649.0\n",
      "\n",
      "porsche\n",
      "-------\n",
      "convertible $37028.0\n",
      "hardtop $34028.0\n",
      "hatchback $nan\n",
      "\n",
      "toyota\n",
      "------\n",
      "wagon $15750.0\n",
      "wagon $8778.0\n",
      "wagon $7898.0\n",
      "wagon $6918.0\n",
      "hatchback $6488.0\n",
      "hatchback $6338.0\n",
      "hatchback $5348.0\n",
      "\n",
      "volkswagen\n",
      "----------\n",
      "sedan $9995.0\n",
      "sedan $7995.0\n",
      "sedan $7975.0\n",
      "sedan $7775.0\n",
      "\n",
      "volvo\n",
      "-----\n",
      "wagon $13415.0\n",
      "sedan $12940.0\n",
      "\n"
     ]
    }
   ],
   "source": [
    "sorted_df = df.sort_values('price', ascending = False)\n",
    "cars_grouped_company = sorted_df[['body-style', 'price']].groupby([df['company']])\n",
    "\n",
    "\n",
    "for company, group in cars_grouped_company:\n",
    "    print(company)\n",
    "    print('-' * len(company))\n",
    "    for row_index, row in group.iterrows():\n",
    "        print(f\"{row['body-style']} ${row['price']}\")\n",
    "\n",
    "    print(\"\")\n",
    "\n",
    "\n"
   ]
  },
  {
   "cell_type": "code",
   "execution_count": 318,
   "metadata": {},
   "outputs": [
    {
     "name": "stdout",
     "output_type": "stream",
     "text": [
      "Enter first column name: company\n",
      "Enter first column value: audi\n",
      "Enter second column name: average-mileage\n",
      "Enter second column value: 19\n",
      "   index company body-style  wheel-base  length engine-type num-of-cylinders  \\\n",
      "5      5    audi      sedan        99.8   177.3         ohc             five   \n",
      "6      6    audi      wagon       105.8   192.7         ohc             five   \n",
      "\n",
      "   horsepower  average-mileage    price  \n",
      "5         110               19  15250.0  \n",
      "6         110               19  18920.0  \n"
     ]
    }
   ],
   "source": [
    "# set second column name and value to optional parameters in order for function \n",
    "# to still work with just first column and value \n",
    "def extract(first_column_name, first_column_value, second_column_name = \"\", second_column_value = \"\"):\n",
    "    result = None\n",
    "    \n",
    "    if (second_column_name != \"\"):\n",
    "        result = df.loc[(df[first_column_name] == first_column_value) & (df[second_column_name] == second_column_value)]\n",
    "        \n",
    "        if (len(result) == 0):\n",
    "            return \"No car is found with \" + first_column_name + \", \" + str(first_column_value) + \" and \" \n",
    "            + second_column_name + \", \" + str(second_column_value)\n",
    "    else:\n",
    "        result = df.loc[df[first_column_name] == first_column_value]\n",
    "\n",
    "        # use len to check if there is no result        \n",
    "        if (len(result) == 0):\n",
    "            return \"No car is found with \" + first_column_name + \", \" + str(first_column_value)\n",
    "        \n",
    "    return result\n",
    "\n",
    "validFirstColumnName = False\n",
    "first_column_name = ''\n",
    "\n",
    "# To repeat prompt until user enters a valid column name\n",
    "while (not validFirstColumnName):\n",
    "    first_column_name = input(\"Enter first column name: \").lower()\n",
    "    if np.any(first_column_name == df.columns):\n",
    "        validFirstColumnName = True\n",
    "    else:\n",
    "        print(\"Please enter a valid column name.\")\n",
    "\n",
    "first_column_value = input(\"Enter first column value: \").lower()\n",
    "\n",
    "# To check if user input can be converted to int or float type for comparison since data contains \n",
    "# int and float type values\n",
    "try:                      \n",
    "    first_column_value = int(first_column_value)\n",
    "except:                  \n",
    "    try:                      \n",
    "        first_column_value = float(first_column_value)\n",
    "    except:                  \n",
    "        pass\n",
    "\n",
    "validSecondColumnName = False\n",
    "second_column_name = \"\"\n",
    "second_column_value = \"\"\n",
    "\n",
    "# To repeat prompt until user enters a valid column name and to stop while loop when exit is entered\n",
    "while (not validSecondColumnName):\n",
    "    second_column_name = input(\"Enter second column name: \").lower()\n",
    "    if (second_column_name == \"exit\"):\n",
    "        validSecondColumnName = True\n",
    "        break\n",
    "        \n",
    "    if np.any(second_column_name == df.columns):\n",
    "        validSecondColumnName = True\n",
    "        \n",
    "    else:\n",
    "        print(\"Please enter a valid column name.\")\n",
    "\n",
    "if (second_column_name != 'exit'):\n",
    "    second_column_value = input(\"Enter second column value: \").lower()\n",
    "\n",
    "    try:\n",
    "        second_column_value = int(second_column_value)\n",
    "    except:\n",
    "        try:\n",
    "            second_column_value = float(second_column_value)\n",
    "        except:\n",
    "            pass\n",
    "\n",
    "data = None\n",
    "if (second_column_name == 'exit'):\n",
    "    data = extract(first_column_name, first_column_value)\n",
    "else:\n",
    "    data = extract(first_column_name, first_column_value, second_column_name, second_column_value)\n",
    "\n",
    "print(data)"
   ]
  },
  {
   "cell_type": "markdown",
   "metadata": {},
   "source": [
    "## <center>End of Project<center>\n",
    "---"
   ]
  },
  {
   "cell_type": "code",
   "execution_count": null,
   "metadata": {},
   "outputs": [],
   "source": []
  },
  {
   "cell_type": "code",
   "execution_count": null,
   "metadata": {},
   "outputs": [],
   "source": []
  },
  {
   "cell_type": "code",
   "execution_count": null,
   "metadata": {},
   "outputs": [],
   "source": []
  }
 ],
 "metadata": {
  "kernelspec": {
   "display_name": "Python 3 (ipykernel)",
   "language": "python",
   "name": "python3"
  },
  "language_info": {
   "codemirror_mode": {
    "name": "ipython",
    "version": 3
   },
   "file_extension": ".py",
   "mimetype": "text/x-python",
   "name": "python",
   "nbconvert_exporter": "python",
   "pygments_lexer": "ipython3",
   "version": "3.9.7"
  }
 },
 "nbformat": 4,
 "nbformat_minor": 2
}
