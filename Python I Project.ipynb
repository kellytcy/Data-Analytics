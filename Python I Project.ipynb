{
 "cells": [
  {
   "cell_type": "markdown",
   "metadata": {},
   "source": [
    "# Programming in Python I - Project"
   ]
  },
  {
   "cell_type": "markdown",
   "metadata": {},
   "source": [
    "### For this project, you have to provide the solutions for the following 4 questions. Code your answers directly into the cell after each question. Be sure to run them to ensure that your code works. \n",
    "\n",
    "### After you have completed the questions, zip this file and upload this file back into the Course Content portal."
   ]
  },
  {
   "cell_type": "markdown",
   "metadata": {},
   "source": [
    "## 1. Write a function named <code>vowel()</code> to check if  a given string contains a vowel."
   ]
  },
  {
   "cell_type": "code",
   "execution_count": 28,
   "metadata": {},
   "outputs": [
    {
     "name": "stdout",
     "output_type": "stream",
     "text": [
      "Type in word: apple\n",
      "It contains vowels\n"
     ]
    }
   ],
   "source": [
    "def vowel():\n",
    "    vowels = {\"a\", \"e\", \"i\", \"o\", \"u\"}\n",
    "    word = input(\"Type in word: \").lower()\n",
    "    \n",
    "    for letter in word:\n",
    "        if letter in vowels:\n",
    "             return \"It contains vowels\"\n",
    "        \n",
    "    return \"It does not contain vowels\"\n",
    "\n",
    "print(vowel())"
   ]
  },
  {
   "cell_type": "markdown",
   "metadata": {},
   "source": [
    "## 2. Write a function named <code>reverse()</code> that reverses a string."
   ]
  },
  {
   "cell_type": "code",
   "execution_count": 24,
   "metadata": {},
   "outputs": [
    {
     "name": "stdout",
     "output_type": "stream",
     "text": [
      "olleh\n",
      "dlrow\n"
     ]
    }
   ],
   "source": [
    "def reverse(word):\n",
    "    return word[::-1]\n",
    "    \n",
    "print(reverse('hello'))\n",
    "print(reverse('world'))"
   ]
  },
  {
   "cell_type": "markdown",
   "metadata": {},
   "source": [
    "## 3.\tWrite a function named <code>max_and_min()</code> that takes in a list of numbers and returns the maximum and minimum."
   ]
  },
  {
   "cell_type": "code",
   "execution_count": 25,
   "metadata": {},
   "outputs": [
    {
     "name": "stdout",
     "output_type": "stream",
     "text": [
      "The maximum number is 5 and the minimum number is 1\n",
      "The maximum number is 10 and the minimum number is 2\n"
     ]
    }
   ],
   "source": [
    "def max_and_min(list):\n",
    "    max_num = list[0]\n",
    "    min_num = list[0]\n",
    "    \n",
    "    for num in list:\n",
    "        if num > max_num:\n",
    "            max_num = num\n",
    "            \n",
    "        if num < min_num:\n",
    "            min_num = num\n",
    "            \n",
    "    return \"The maximum number is \" + str(max_num) + \" and the minimum number is \" + str(min_num)\n",
    "    \n",
    "print(max_and_min([1,2,3,4,5])) \n",
    "print(max_and_min([10, 8, 4, 2])) "
   ]
  },
  {
   "cell_type": "markdown",
   "metadata": {},
   "source": [
    "## 4.\tWrite a function named <code>palindrome()</code> that checks if a string is a palindrome."
   ]
  },
  {
   "cell_type": "code",
   "execution_count": 26,
   "metadata": {},
   "outputs": [
    {
     "name": "stdout",
     "output_type": "stream",
     "text": [
      "True\n",
      "False\n"
     ]
    }
   ],
   "source": [
    "def palindrome(word):\n",
    "    reverse_word = word[::-1]\n",
    "    \n",
    "    if reverse_word == word:\n",
    "        return True\n",
    "    else:\n",
    "        return False\n",
    "    \n",
    "print(palindrome('civic')) \n",
    "print(palindrome('hello')) "
   ]
  },
  {
   "cell_type": "code",
   "execution_count": null,
   "metadata": {},
   "outputs": [],
   "source": []
  }
 ],
 "metadata": {
  "kernelspec": {
   "display_name": "Python 3 (ipykernel)",
   "language": "python",
   "name": "python3"
  },
  "language_info": {
   "codemirror_mode": {
    "name": "ipython",
    "version": 3
   },
   "file_extension": ".py",
   "mimetype": "text/x-python",
   "name": "python",
   "nbconvert_exporter": "python",
   "pygments_lexer": "ipython3",
   "version": "3.9.7"
  }
 },
 "nbformat": 4,
 "nbformat_minor": 2
}
