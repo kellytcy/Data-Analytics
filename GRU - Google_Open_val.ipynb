{
 "cells": [
  {
   "cell_type": "code",
   "execution_count": 1,
   "id": "a70aaa96",
   "metadata": {},
   "outputs": [],
   "source": [
    "import numpy as np\n",
    "import matplotlib.pyplot as plt\n",
    "import pandas as pd\n",
    "import math\n",
    "import tensorflow as tf\n",
    "from tensorflow import keras\n",
    "from tensorflow.keras import layers\n",
    "from tensorflow.keras.models import Sequential\n",
    "from tensorflow.keras.layers import Dense, Dropout, Activation\n",
    "from tensorflow.keras.layers import GRU\n",
    "from sklearn.preprocessing import MinMaxScaler, StandardScaler\n",
    "from sklearn.metrics import mean_squared_error\n",
    "from sklearn.model_selection import train_test_split"
   ]
  },
  {
   "cell_type": "code",
   "execution_count": 75,
   "id": "2492a7b8",
   "metadata": {},
   "outputs": [
    {
     "data": {
      "text/html": [
       "<div>\n",
       "<style scoped>\n",
       "    .dataframe tbody tr th:only-of-type {\n",
       "        vertical-align: middle;\n",
       "    }\n",
       "\n",
       "    .dataframe tbody tr th {\n",
       "        vertical-align: top;\n",
       "    }\n",
       "\n",
       "    .dataframe thead th {\n",
       "        text-align: right;\n",
       "    }\n",
       "</style>\n",
       "<table border=\"1\" class=\"dataframe\">\n",
       "  <thead>\n",
       "    <tr style=\"text-align: right;\">\n",
       "      <th></th>\n",
       "      <th>Open</th>\n",
       "      <th>High</th>\n",
       "      <th>Low</th>\n",
       "      <th>Close</th>\n",
       "      <th>Adj Close</th>\n",
       "      <th>Volume</th>\n",
       "    </tr>\n",
       "    <tr>\n",
       "      <th>Date</th>\n",
       "      <th></th>\n",
       "      <th></th>\n",
       "      <th></th>\n",
       "      <th></th>\n",
       "      <th></th>\n",
       "      <th></th>\n",
       "    </tr>\n",
       "  </thead>\n",
       "  <tbody>\n",
       "    <tr>\n",
       "      <th>2004-08-19</th>\n",
       "      <td>49.813290</td>\n",
       "      <td>51.835709</td>\n",
       "      <td>47.800831</td>\n",
       "      <td>49.982655</td>\n",
       "      <td>49.982655</td>\n",
       "      <td>44871361</td>\n",
       "    </tr>\n",
       "    <tr>\n",
       "      <th>2004-08-20</th>\n",
       "      <td>50.316402</td>\n",
       "      <td>54.336334</td>\n",
       "      <td>50.062355</td>\n",
       "      <td>53.952770</td>\n",
       "      <td>53.952770</td>\n",
       "      <td>22942874</td>\n",
       "    </tr>\n",
       "    <tr>\n",
       "      <th>2004-08-23</th>\n",
       "      <td>55.168217</td>\n",
       "      <td>56.528118</td>\n",
       "      <td>54.321388</td>\n",
       "      <td>54.495735</td>\n",
       "      <td>54.495735</td>\n",
       "      <td>18342897</td>\n",
       "    </tr>\n",
       "    <tr>\n",
       "      <th>2004-08-24</th>\n",
       "      <td>55.412300</td>\n",
       "      <td>55.591629</td>\n",
       "      <td>51.591621</td>\n",
       "      <td>52.239197</td>\n",
       "      <td>52.239197</td>\n",
       "      <td>15319808</td>\n",
       "    </tr>\n",
       "    <tr>\n",
       "      <th>2004-08-25</th>\n",
       "      <td>52.284027</td>\n",
       "      <td>53.798351</td>\n",
       "      <td>51.746044</td>\n",
       "      <td>52.802086</td>\n",
       "      <td>52.802086</td>\n",
       "      <td>9232276</td>\n",
       "    </tr>\n",
       "    <tr>\n",
       "      <th>...</th>\n",
       "      <td>...</td>\n",
       "      <td>...</td>\n",
       "      <td>...</td>\n",
       "      <td>...</td>\n",
       "      <td>...</td>\n",
       "      <td>...</td>\n",
       "    </tr>\n",
       "    <tr>\n",
       "      <th>2021-10-04</th>\n",
       "      <td>2713.989990</td>\n",
       "      <td>2714.000000</td>\n",
       "      <td>2623.330078</td>\n",
       "      <td>2675.300049</td>\n",
       "      <td>2675.300049</td>\n",
       "      <td>1576500</td>\n",
       "    </tr>\n",
       "    <tr>\n",
       "      <th>2021-10-05</th>\n",
       "      <td>2680.000000</td>\n",
       "      <td>2747.239990</td>\n",
       "      <td>2680.000000</td>\n",
       "      <td>2723.540039</td>\n",
       "      <td>2723.540039</td>\n",
       "      <td>1206300</td>\n",
       "    </tr>\n",
       "    <tr>\n",
       "      <th>2021-10-06</th>\n",
       "      <td>2692.510010</td>\n",
       "      <td>2757.040039</td>\n",
       "      <td>2689.729980</td>\n",
       "      <td>2747.080078</td>\n",
       "      <td>2747.080078</td>\n",
       "      <td>988200</td>\n",
       "    </tr>\n",
       "    <tr>\n",
       "      <th>2021-10-07</th>\n",
       "      <td>2777.260010</td>\n",
       "      <td>2803.089111</td>\n",
       "      <td>2771.260010</td>\n",
       "      <td>2783.709961</td>\n",
       "      <td>2783.709961</td>\n",
       "      <td>912500</td>\n",
       "    </tr>\n",
       "    <tr>\n",
       "      <th>2021-10-08</th>\n",
       "      <td>2798.120117</td>\n",
       "      <td>2806.340088</td>\n",
       "      <td>2788.586914</td>\n",
       "      <td>2801.120117</td>\n",
       "      <td>2801.120117</td>\n",
       "      <td>946200</td>\n",
       "    </tr>\n",
       "  </tbody>\n",
       "</table>\n",
       "<p>4316 rows × 6 columns</p>\n",
       "</div>"
      ],
      "text/plain": [
       "                   Open         High          Low        Close    Adj Close  \\\n",
       "Date                                                                          \n",
       "2004-08-19    49.813290    51.835709    47.800831    49.982655    49.982655   \n",
       "2004-08-20    50.316402    54.336334    50.062355    53.952770    53.952770   \n",
       "2004-08-23    55.168217    56.528118    54.321388    54.495735    54.495735   \n",
       "2004-08-24    55.412300    55.591629    51.591621    52.239197    52.239197   \n",
       "2004-08-25    52.284027    53.798351    51.746044    52.802086    52.802086   \n",
       "...                 ...          ...          ...          ...          ...   \n",
       "2021-10-04  2713.989990  2714.000000  2623.330078  2675.300049  2675.300049   \n",
       "2021-10-05  2680.000000  2747.239990  2680.000000  2723.540039  2723.540039   \n",
       "2021-10-06  2692.510010  2757.040039  2689.729980  2747.080078  2747.080078   \n",
       "2021-10-07  2777.260010  2803.089111  2771.260010  2783.709961  2783.709961   \n",
       "2021-10-08  2798.120117  2806.340088  2788.586914  2801.120117  2801.120117   \n",
       "\n",
       "              Volume  \n",
       "Date                  \n",
       "2004-08-19  44871361  \n",
       "2004-08-20  22942874  \n",
       "2004-08-23  18342897  \n",
       "2004-08-24  15319808  \n",
       "2004-08-25   9232276  \n",
       "...              ...  \n",
       "2021-10-04   1576500  \n",
       "2021-10-05   1206300  \n",
       "2021-10-06    988200  \n",
       "2021-10-07    912500  \n",
       "2021-10-08    946200  \n",
       "\n",
       "[4316 rows x 6 columns]"
      ]
     },
     "execution_count": 75,
     "metadata": {},
     "output_type": "execute_result"
    }
   ],
   "source": [
    "df = pd.read_csv(\"GOOG.csv\", index_col='Date', parse_dates=True)\n",
    "df"
   ]
  },
  {
   "cell_type": "code",
   "execution_count": 76,
   "id": "15068ff6",
   "metadata": {},
   "outputs": [],
   "source": [
    "dataset = df['Open']\n",
    "dataset = dataset.values.astype('float32')\n",
    "tf.random.set_seed(10)"
   ]
  },
  {
   "cell_type": "code",
   "execution_count": 77,
   "id": "a2f668e8",
   "metadata": {},
   "outputs": [],
   "source": [
    "def create_dataset(dataset, look_back=1):\n",
    "    dataX, dataY = [],[]\n",
    "    for i in range(len(dataset) - look_back - 1):\n",
    "        a = dataset[i:(i+look_back), 0]\n",
    "        dataX.append(a)\n",
    "        dataY.append(dataset[i + look_back, 0])\n",
    "    return np.array(dataX), np.array(dataY)"
   ]
  },
  {
   "cell_type": "code",
   "execution_count": 78,
   "id": "48fa6b16",
   "metadata": {},
   "outputs": [],
   "source": [
    "dataset = dataset.reshape(-1,1)\n",
    "mm = MinMaxScaler(feature_range=(0,1))\n",
    "\n",
    "n = len(dataset)\n",
    "train = dataset[0:int(n*0.7)]\n",
    "val = dataset[int(n*0.7):int(n*0.8)]\n",
    "test = dataset[int(n*0.8):]"
   ]
  },
  {
   "cell_type": "code",
   "execution_count": 79,
   "id": "3a5a9659",
   "metadata": {},
   "outputs": [],
   "source": [
    "look_back = 1\n",
    "X_train, y_train = create_dataset(train, look_back)\n",
    "X_val, y_val = create_dataset(val, look_back)\n",
    "X_test, y_test = create_dataset(test, look_back)"
   ]
  },
  {
   "cell_type": "code",
   "execution_count": 80,
   "id": "aa7f48a4",
   "metadata": {},
   "outputs": [],
   "source": [
    "X_train = X_train.reshape(-1,1)\n",
    "X_val = X_val.reshape(-1,1)\n",
    "y_train = y_train.reshape(-1,1)\n",
    "y_val = y_val.reshape(-1,1)\n",
    "X_test = X_test.reshape(-1,1)\n",
    "y_test = y_test.reshape(-1,1)"
   ]
  },
  {
   "cell_type": "code",
   "execution_count": 81,
   "id": "35d3f50f",
   "metadata": {},
   "outputs": [],
   "source": [
    "X_train = mm.fit_transform(X_train)\n",
    "y_train = mm.fit_transform(y_train)\n",
    "\n",
    "X_val = mm.transform(X_val)\n",
    "y_val = mm.transform(y_val)\n",
    "\n",
    "X_test = mm.transform(X_test)\n",
    "y_test = mm.transform(y_test)"
   ]
  },
  {
   "cell_type": "code",
   "execution_count": 82,
   "id": "cea001df",
   "metadata": {},
   "outputs": [],
   "source": [
    "X_train = np.reshape(X_train, (X_train.shape[0], 1, X_train.shape[1]))\n",
    "X_val = np.reshape(X_val, (X_val.shape[0], 1, X_val.shape[1]))\n",
    "X_test = np.reshape(X_test, (X_test.shape[0], 1, X_test.shape[1]))\n"
   ]
  },
  {
   "cell_type": "code",
   "execution_count": 84,
   "id": "9b1f6382",
   "metadata": {},
   "outputs": [
    {
     "name": "stdout",
     "output_type": "stream",
     "text": [
      "Epoch 1/30\n",
      "95/95 - 3s - loss: 0.0249 - val_loss: 0.0063 - 3s/epoch - 31ms/step\n",
      "Epoch 2/30\n",
      "95/95 - 1s - loss: 2.5335e-04 - val_loss: 3.6698e-04 - 594ms/epoch - 6ms/step\n",
      "Epoch 3/30\n",
      "95/95 - 1s - loss: 1.8193e-04 - val_loss: 3.9194e-04 - 604ms/epoch - 6ms/step\n",
      "Epoch 4/30\n",
      "95/95 - 1s - loss: 1.8287e-04 - val_loss: 4.3141e-04 - 593ms/epoch - 6ms/step\n",
      "Epoch 5/30\n",
      "95/95 - 1s - loss: 1.7285e-04 - val_loss: 3.3134e-04 - 588ms/epoch - 6ms/step\n",
      "Epoch 6/30\n",
      "95/95 - 1s - loss: 1.6543e-04 - val_loss: 5.2095e-04 - 588ms/epoch - 6ms/step\n",
      "Epoch 7/30\n",
      "95/95 - 1s - loss: 1.6945e-04 - val_loss: 3.5372e-04 - 586ms/epoch - 6ms/step\n",
      "Epoch 8/30\n",
      "95/95 - 1s - loss: 1.6329e-04 - val_loss: 4.6026e-04 - 586ms/epoch - 6ms/step\n",
      "Epoch 9/30\n",
      "95/95 - 1s - loss: 1.5998e-04 - val_loss: 4.3592e-04 - 589ms/epoch - 6ms/step\n",
      "Epoch 10/30\n",
      "95/95 - 1s - loss: 1.6410e-04 - val_loss: 4.0201e-04 - 590ms/epoch - 6ms/step\n",
      "Epoch 11/30\n",
      "95/95 - 1s - loss: 1.5075e-04 - val_loss: 3.6570e-04 - 590ms/epoch - 6ms/step\n",
      "Epoch 12/30\n",
      "95/95 - 1s - loss: 1.5399e-04 - val_loss: 3.0213e-04 - 593ms/epoch - 6ms/step\n",
      "Epoch 13/30\n",
      "95/95 - 1s - loss: 1.5295e-04 - val_loss: 3.6680e-04 - 593ms/epoch - 6ms/step\n",
      "Epoch 14/30\n",
      "95/95 - 1s - loss: 1.5803e-04 - val_loss: 3.4305e-04 - 590ms/epoch - 6ms/step\n",
      "Epoch 15/30\n",
      "95/95 - 1s - loss: 1.4921e-04 - val_loss: 3.0759e-04 - 589ms/epoch - 6ms/step\n",
      "Epoch 16/30\n",
      "95/95 - 1s - loss: 1.6242e-04 - val_loss: 4.4737e-04 - 587ms/epoch - 6ms/step\n",
      "Epoch 17/30\n",
      "95/95 - 1s - loss: 1.6757e-04 - val_loss: 4.3453e-04 - 624ms/epoch - 7ms/step\n",
      "Epoch 18/30\n",
      "95/95 - 1s - loss: 1.5307e-04 - val_loss: 3.8179e-04 - 627ms/epoch - 7ms/step\n",
      "Epoch 19/30\n",
      "95/95 - 1s - loss: 1.5953e-04 - val_loss: 4.1830e-04 - 647ms/epoch - 7ms/step\n",
      "Epoch 20/30\n",
      "95/95 - 1s - loss: 1.5760e-04 - val_loss: 3.1643e-04 - 643ms/epoch - 7ms/step\n",
      "Epoch 21/30\n",
      "95/95 - 1s - loss: 1.4820e-04 - val_loss: 3.8064e-04 - 600ms/epoch - 6ms/step\n",
      "Epoch 22/30\n",
      "95/95 - 1s - loss: 1.4927e-04 - val_loss: 3.2573e-04 - 617ms/epoch - 6ms/step\n",
      "Epoch 23/30\n",
      "95/95 - 1s - loss: 1.5346e-04 - val_loss: 4.4938e-04 - 591ms/epoch - 6ms/step\n",
      "Epoch 24/30\n",
      "95/95 - 1s - loss: 1.5185e-04 - val_loss: 3.6346e-04 - 594ms/epoch - 6ms/step\n",
      "Epoch 25/30\n",
      "95/95 - 1s - loss: 1.4501e-04 - val_loss: 4.9138e-04 - 598ms/epoch - 6ms/step\n",
      "Epoch 26/30\n",
      "95/95 - 1s - loss: 1.6177e-04 - val_loss: 3.2485e-04 - 587ms/epoch - 6ms/step\n",
      "Epoch 27/30\n",
      "95/95 - 1s - loss: 1.5204e-04 - val_loss: 2.9378e-04 - 666ms/epoch - 7ms/step\n",
      "Epoch 28/30\n",
      "95/95 - 1s - loss: 1.4128e-04 - val_loss: 2.9287e-04 - 610ms/epoch - 6ms/step\n",
      "Epoch 29/30\n",
      "95/95 - 1s - loss: 1.4256e-04 - val_loss: 2.8715e-04 - 611ms/epoch - 6ms/step\n",
      "Epoch 30/30\n",
      "95/95 - 1s - loss: 1.4720e-04 - val_loss: 3.0836e-04 - 746ms/epoch - 8ms/step\n"
     ]
    },
    {
     "data": {
      "text/plain": [
       "<keras.callbacks.History at 0x149c24aa490>"
      ]
     },
     "execution_count": 84,
     "metadata": {},
     "output_type": "execute_result"
    }
   ],
   "source": [
    "model = Sequential()\n",
    "model.add(GRU(500, input_shape=(1, look_back)))\n",
    "model.add(Dropout(0.1))\n",
    "model.add(Dense(1, activation = 'linear'))\n",
    "model.compile(loss='mean_squared_error', optimizer = 'adam')\n",
    "model.fit(X_train, y_train, epochs=30, batch_size = 32, verbose = 2, validation_data=(X_val, y_val))"
   ]
  },
  {
   "cell_type": "code",
   "execution_count": 85,
   "id": "e8c092fd",
   "metadata": {},
   "outputs": [
    {
     "name": "stdout",
     "output_type": "stream",
     "text": [
      "Evaluate on test data\n",
      "14/14 [==============================] - 0s 3ms/step - loss: 0.0013\n",
      "Test loss: 0.001299513503909111\n"
     ]
    }
   ],
   "source": [
    "print(\"Evaluate on test data\")\n",
    "results = model.evaluate(X_test, y_test, batch_size=64)\n",
    "print(\"Test loss:\", results)"
   ]
  },
  {
   "cell_type": "code",
   "execution_count": 86,
   "id": "1283af9b",
   "metadata": {},
   "outputs": [
    {
     "name": "stdout",
     "output_type": "stream",
     "text": [
      "95/95 [==============================] - 0s 3ms/step\n",
      "27/27 [==============================] - 0s 3ms/step\n",
      "Train score: 6.80 RMSE\n",
      "Test score: 26.52 RMSE\n"
     ]
    }
   ],
   "source": [
    "train_pred = model.predict(X_train)\n",
    "test_pred = model.predict(X_test)\n",
    "\n",
    "train_pred = mm.inverse_transform(train_pred)\n",
    "y_train = mm.inverse_transform(y_train)\n",
    "\n",
    "test_pred = mm.inverse_transform(test_pred)\n",
    "y_test = mm.inverse_transform(y_test)\n",
    "\n",
    "train_score = np.sqrt(mean_squared_error(y_train[:,0], train_pred[:,0]))\n",
    "print(\"Train score: %.2f RMSE\" % (train_score))\n",
    "\n",
    "test_score = np.sqrt(mean_squared_error(y_test[:,0], test_pred[:,0]))\n",
    "print(\"Test score: %.2f RMSE\" % (test_score))"
   ]
  },
  {
   "cell_type": "code",
   "execution_count": 87,
   "id": "5c0f4e4c",
   "metadata": {},
   "outputs": [],
   "source": [
    "z = len(train) + len(val)"
   ]
  },
  {
   "cell_type": "code",
   "execution_count": 88,
   "id": "b1807017",
   "metadata": {},
   "outputs": [
    {
     "data": {
      "image/png": "[encoded data removed]",
      "text/plain": [
       "<Figure size 432x288 with 1 Axes>"
      ]
     },
     "metadata": {
      "needs_background": "light"
     },
     "output_type": "display_data"
    }
   ],
   "source": [
    "look_back = 1\n",
    "train_pred_plot = np.empty_like(dataset)\n",
    "train_pred_plot[:,:] = np.nan\n",
    "train_pred_plot[look_back:len(train_pred)+look_back, :] = train_pred\n",
    "\n",
    "test_pred_plot = np.empty_like(dataset)\n",
    "test_pred_plot[:,:] = np.nan\n",
    "test_pred_plot[z + (look_back*2):len(dataset), :] = test_pred\n",
    "\n",
    "plt.plot(dataset)\n",
    "plt.plot(train_pred_plot)\n",
    "plt.plot(test_pred_plot)\n",
    "plt.show()"
   ]
  },
  {
   "cell_type": "markdown",
   "id": "7e03cb7a",
   "metadata": {},
   "source": [
    "### Increasing timesteps"
   ]
  },
  {
   "cell_type": "code",
   "execution_count": 100,
   "id": "8bc62749",
   "metadata": {},
   "outputs": [],
   "source": [
    "df = pd.read_csv(\"GOOG.csv\", index_col='Date', parse_dates=True)\n",
    "dataset = df['Open']\n",
    "dataset = dataset.values.astype('float32')\n",
    "tf.random.set_seed(10)"
   ]
  },
  {
   "cell_type": "code",
   "execution_count": 101,
   "id": "5b37a741",
   "metadata": {},
   "outputs": [],
   "source": [
    "def create_dataset(dataset, look_back=1):\n",
    "    dataX, dataY = [],[]\n",
    "    for i in range(len(dataset) - look_back - 1):\n",
    "        a = dataset[i:(i+look_back), 0]\n",
    "        dataX.append(a)\n",
    "        dataY.append(dataset[i + look_back, 0])\n",
    "    return np.array(dataX), np.array(dataY)"
   ]
  },
  {
   "cell_type": "code",
   "execution_count": 102,
   "id": "350b5e34",
   "metadata": {},
   "outputs": [],
   "source": [
    "dataset = dataset.reshape(-1,1)\n",
    "mm = MinMaxScaler(feature_range=(0,1))\n",
    "\n",
    "n = len(dataset)\n",
    "train = dataset[0:int(n*0.7)]\n",
    "val = dataset[int(n*0.7):int(n*0.8)]\n",
    "test = dataset[int(n*0.8):]"
   ]
  },
  {
   "cell_type": "code",
   "execution_count": 103,
   "id": "81fafa32",
   "metadata": {},
   "outputs": [],
   "source": [
    "train = mm.fit_transform(train)\n",
    "val = mm.transform(val)\n",
    "test = mm.transform(test)"
   ]
  },
  {
   "cell_type": "code",
   "execution_count": 104,
   "id": "e44d0ce5",
   "metadata": {},
   "outputs": [],
   "source": [
    "look_back = 3\n",
    "X_train, y_train = create_dataset(train, look_back)\n",
    "X_val, y_val = create_dataset(val, look_back)\n",
    "X_test, y_test = create_dataset(test, look_back)"
   ]
  },
  {
   "cell_type": "code",
   "execution_count": 105,
   "id": "d1c3bbe8",
   "metadata": {},
   "outputs": [
    {
     "data": {
      "text/plain": [
       "(3017, 3)"
      ]
     },
     "execution_count": 105,
     "metadata": {},
     "output_type": "execute_result"
    }
   ],
   "source": [
    "X_train.shape"
   ]
  },
  {
   "cell_type": "code",
   "execution_count": 106,
   "id": "8addc166",
   "metadata": {},
   "outputs": [],
   "source": [
    "y_train = y_train.reshape(-1,1)\n",
    "y_val = y_val.reshape(-1,1)\n",
    "y_test = y_test.reshape(-1,1)"
   ]
  },
  {
   "cell_type": "code",
   "execution_count": 107,
   "id": "b5e4d9ba",
   "metadata": {},
   "outputs": [],
   "source": [
    "X_train = np.reshape(X_train, (X_train.shape[0], 1, X_train.shape[1]))\n",
    "X_test = np.reshape(X_test, (X_test.shape[0], 1, X_test.shape[1]))\n",
    "X_val = np.reshape(X_val, (X_val.shape[0], 1, X_val.shape[1]))"
   ]
  },
  {
   "cell_type": "code",
   "execution_count": 108,
   "id": "92e5c503",
   "metadata": {},
   "outputs": [
    {
     "name": "stdout",
     "output_type": "stream",
     "text": [
      "Epoch 1/30\n",
      "48/48 - 2s - loss: 0.0325 - val_loss: 0.0283 - 2s/epoch - 40ms/step\n",
      "Epoch 2/30\n",
      "48/48 - 0s - loss: 0.0014 - val_loss: 4.8393e-04 - 336ms/epoch - 7ms/step\n",
      "Epoch 3/30\n",
      "48/48 - 0s - loss: 3.7483e-04 - val_loss: 8.4958e-04 - 341ms/epoch - 7ms/step\n",
      "Epoch 4/30\n",
      "48/48 - 0s - loss: 3.9521e-04 - val_loss: 7.1087e-04 - 337ms/epoch - 7ms/step\n",
      "Epoch 5/30\n",
      "48/48 - 0s - loss: 3.8240e-04 - val_loss: 7.1251e-04 - 372ms/epoch - 8ms/step\n",
      "Epoch 6/30\n",
      "48/48 - 0s - loss: 3.7648e-04 - val_loss: 7.3395e-04 - 375ms/epoch - 8ms/step\n",
      "Epoch 7/30\n",
      "48/48 - 0s - loss: 3.5819e-04 - val_loss: 8.4827e-04 - 381ms/epoch - 8ms/step\n",
      "Epoch 8/30\n",
      "48/48 - 0s - loss: 3.2715e-04 - val_loss: 8.4599e-04 - 361ms/epoch - 8ms/step\n",
      "Epoch 9/30\n",
      "48/48 - 0s - loss: 3.5536e-04 - val_loss: 6.4838e-04 - 382ms/epoch - 8ms/step\n",
      "Epoch 10/30\n",
      "48/48 - 0s - loss: 3.3683e-04 - val_loss: 5.0630e-04 - 392ms/epoch - 8ms/step\n",
      "Epoch 11/30\n",
      "48/48 - 0s - loss: 3.4738e-04 - val_loss: 7.6783e-04 - 381ms/epoch - 8ms/step\n",
      "Epoch 12/30\n",
      "48/48 - 0s - loss: 3.5042e-04 - val_loss: 6.9410e-04 - 384ms/epoch - 8ms/step\n",
      "Epoch 13/30\n",
      "48/48 - 0s - loss: 3.2371e-04 - val_loss: 8.2374e-04 - 438ms/epoch - 9ms/step\n",
      "Epoch 14/30\n",
      "48/48 - 0s - loss: 3.1010e-04 - val_loss: 4.6353e-04 - 345ms/epoch - 7ms/step\n",
      "Epoch 15/30\n",
      "48/48 - 0s - loss: 3.3463e-04 - val_loss: 4.6436e-04 - 350ms/epoch - 7ms/step\n",
      "Epoch 16/30\n",
      "48/48 - 0s - loss: 2.9979e-04 - val_loss: 5.5916e-04 - 451ms/epoch - 9ms/step\n",
      "Epoch 17/30\n",
      "48/48 - 0s - loss: 2.9783e-04 - val_loss: 5.4773e-04 - 354ms/epoch - 7ms/step\n",
      "Epoch 18/30\n",
      "48/48 - 0s - loss: 3.1020e-04 - val_loss: 4.3958e-04 - 346ms/epoch - 7ms/step\n",
      "Epoch 19/30\n",
      "48/48 - 0s - loss: 3.0492e-04 - val_loss: 6.3887e-04 - 350ms/epoch - 7ms/step\n",
      "Epoch 20/30\n",
      "48/48 - 0s - loss: 2.8740e-04 - val_loss: 7.2784e-04 - 354ms/epoch - 7ms/step\n",
      "Epoch 21/30\n",
      "48/48 - 0s - loss: 2.7028e-04 - val_loss: 4.7259e-04 - 344ms/epoch - 7ms/step\n",
      "Epoch 22/30\n",
      "48/48 - 0s - loss: 2.8955e-04 - val_loss: 4.9166e-04 - 343ms/epoch - 7ms/step\n",
      "Epoch 23/30\n",
      "48/48 - 0s - loss: 2.6769e-04 - val_loss: 4.5239e-04 - 338ms/epoch - 7ms/step\n",
      "Epoch 24/30\n",
      "48/48 - 0s - loss: 2.5997e-04 - val_loss: 4.1262e-04 - 351ms/epoch - 7ms/step\n",
      "Epoch 25/30\n",
      "48/48 - 0s - loss: 2.7878e-04 - val_loss: 4.0957e-04 - 340ms/epoch - 7ms/step\n",
      "Epoch 26/30\n",
      "48/48 - 0s - loss: 2.5936e-04 - val_loss: 4.0687e-04 - 338ms/epoch - 7ms/step\n",
      "Epoch 27/30\n",
      "48/48 - 0s - loss: 2.7112e-04 - val_loss: 5.7459e-04 - 336ms/epoch - 7ms/step\n",
      "Epoch 28/30\n",
      "48/48 - 0s - loss: 2.5948e-04 - val_loss: 6.8782e-04 - 347ms/epoch - 7ms/step\n",
      "Epoch 29/30\n",
      "48/48 - 0s - loss: 2.6238e-04 - val_loss: 4.2681e-04 - 340ms/epoch - 7ms/step\n",
      "Epoch 30/30\n",
      "48/48 - 0s - loss: 2.5102e-04 - val_loss: 3.9510e-04 - 338ms/epoch - 7ms/step\n"
     ]
    },
    {
     "data": {
      "text/plain": [
       "<keras.callbacks.History at 0x149c4f25c70>"
      ]
     },
     "execution_count": 108,
     "metadata": {},
     "output_type": "execute_result"
    }
   ],
   "source": [
    "model = Sequential()\n",
    "model.add(GRU(500, input_shape=(1, look_back)))\n",
    "model.add(Dropout(0.2))\n",
    "model.add(Dense(1, activation = 'linear'))\n",
    "model.compile(loss='mean_squared_error', optimizer = 'adam')\n",
    "model.fit(X_train, y_train, epochs=30, batch_size = 64, verbose = 2, validation_data=(X_val, y_val))"
   ]
  },
  {
   "cell_type": "code",
   "execution_count": 109,
   "id": "4578f72a",
   "metadata": {},
   "outputs": [
    {
     "name": "stdout",
     "output_type": "stream",
     "text": [
      "Evaluate on test data\n",
      "14/14 [==============================] - 0s 3ms/step - loss: 0.0020\n",
      "Test loss: 0.0019727591425180435\n"
     ]
    }
   ],
   "source": [
    "print(\"Evaluate on test data\")\n",
    "results = model.evaluate(X_test, y_test, batch_size=64)\n",
    "print(\"Test loss:\", results)"
   ]
  },
  {
   "cell_type": "code",
   "execution_count": 110,
   "id": "a411a4a3",
   "metadata": {},
   "outputs": [
    {
     "name": "stdout",
     "output_type": "stream",
     "text": [
      "95/95 [==============================] - 0s 2ms/step\n",
      "27/27 [==============================] - 0s 2ms/step\n",
      "Train score: 7.57 RMSE\n",
      "Test score: 32.67 RMSE\n"
     ]
    }
   ],
   "source": [
    "train_pred = model.predict(X_train)\n",
    "test_pred = model.predict(X_test)\n",
    "\n",
    "train_pred = mm.inverse_transform(train_pred)\n",
    "y_train = mm.inverse_transform(y_train)\n",
    "\n",
    "test_pred = mm.inverse_transform(test_pred)\n",
    "y_test = mm.inverse_transform(y_test)\n",
    "\n",
    "train_score = np.sqrt(mean_squared_error(y_train[:,0], train_pred[:,0]))\n",
    "print(\"Train score: %.2f RMSE\" % (train_score))\n",
    "\n",
    "test_score = np.sqrt(mean_squared_error(y_test[:,0], test_pred[:,0]))\n",
    "print(\"Test score: %.2f RMSE\" % (test_score))"
   ]
  },
  {
   "cell_type": "code",
   "execution_count": 111,
   "id": "7af37d70",
   "metadata": {},
   "outputs": [],
   "source": [
    "z = len(train) + len(val)"
   ]
  },
  {
   "cell_type": "code",
   "execution_count": 112,
   "id": "bd6c10c9",
   "metadata": {},
   "outputs": [
    {
     "data": {
      "image/png": "[encoded data removed]",
      "text/plain": [
       "<Figure size 432x288 with 1 Axes>"
      ]
     },
     "metadata": {
      "needs_background": "light"
     },
     "output_type": "display_data"
    }
   ],
   "source": [
    "look_back = 3\n",
    "train_pred_plot = np.empty_like(dataset)\n",
    "train_pred_plot[:,:] = np.nan\n",
    "train_pred_plot[look_back:len(train_pred)+look_back, :] = train_pred\n",
    "\n",
    "test_pred_plot = np.empty_like(dataset)\n",
    "test_pred_plot[:,:] = np.nan\n",
    "test_pred_plot[z +4:len(dataset), :] = test_pred\n",
    "\n",
    "plt.plot(dataset)\n",
    "plt.plot(train_pred_plot)\n",
    "plt.plot(test_pred_plot)\n",
    "plt.show()"
   ]
  },
  {
   "cell_type": "markdown",
   "id": "262a9378",
   "metadata": {},
   "source": [
    "### Multiple features"
   ]
  },
  {
   "cell_type": "code",
   "execution_count": 170,
   "id": "753a904e",
   "metadata": {},
   "outputs": [],
   "source": [
    "df = pd.read_csv(\"GOOG.csv\", index_col='Date', parse_dates=True)\n",
    "dataset = df.values.astype('float32')\n",
    "tf.random.set_seed(10)\n",
    "\n",
    "mm = MinMaxScaler(feature_range=(0,1))\n",
    "\n",
    "train_size = int(len(dataset) * 0.8)\n",
    "test_size = len(dataset) - train_size\n",
    "train, test = dataset[0:train_size, :], dataset[train_size:len(dataset), :]"
   ]
  },
  {
   "cell_type": "code",
   "execution_count": 171,
   "id": "3479ef41",
   "metadata": {},
   "outputs": [],
   "source": [
    "train = mm.fit_transform(train)\n",
    "test = mm.transform(test)"
   ]
  },
  {
   "cell_type": "code",
   "execution_count": 172,
   "id": "3b05aca3",
   "metadata": {},
   "outputs": [
    {
     "data": {
      "text/plain": [
       "array([[3.5772845e-04, 1.0171272e-03, 0.0000000e+00, 1.4599040e-04,\n",
       "        1.4599040e-04, 5.4357713e-01],\n",
       "       [8.0378354e-04, 3.2179765e-03, 2.0117126e-03, 3.6717802e-03,\n",
       "        3.6717802e-03, 2.7788585e-01],\n",
       "       [5.1053390e-03, 5.1470064e-03, 5.8002844e-03, 4.1539781e-03,\n",
       "        4.1539781e-03, 2.2215134e-01],\n",
       "       ...,\n",
       "       [8.6769450e-01, 8.7106174e-01, 8.6736101e-01, 8.6549103e-01,\n",
       "        8.6549103e-01, 1.9327592e-02],\n",
       "       [8.5962659e-01, 8.6163211e-01, 8.5261244e-01, 8.6490488e-01,\n",
       "        8.6490488e-01, 2.1896239e-02],\n",
       "       [8.5776478e-01, 8.7820917e-01, 8.6205047e-01, 8.8665396e-01,\n",
       "        8.8665396e-01, 2.3393810e-02]], dtype=float32)"
      ]
     },
     "execution_count": 172,
     "metadata": {},
     "output_type": "execute_result"
    }
   ],
   "source": [
    "train"
   ]
  },
  {
   "cell_type": "code",
   "execution_count": 173,
   "id": "8608bb26",
   "metadata": {},
   "outputs": [],
   "source": [
    "y_train = train[:,0]\n",
    "y_test = test[:,0]"
   ]
  },
  {
   "cell_type": "code",
   "execution_count": 174,
   "id": "b2dc12a1",
   "metadata": {},
   "outputs": [],
   "source": [
    "def create_dataset_features (dataset, look_back=1):\n",
    "    dataX = np.ones(shape=(1, 6))\n",
    "    for i in range(len(dataset) - look_back - 1):\n",
    "        a = dataset[i:(i+look_back), :]\n",
    "        dataX = np.vstack((dataX, a))\n",
    "    return np.array(dataX)"
   ]
  },
  {
   "cell_type": "code",
   "execution_count": 175,
   "id": "a65adcb6",
   "metadata": {},
   "outputs": [],
   "source": [
    "def create_test (dataset, look_back=1):\n",
    "    dataY = np.ones(shape=(1))\n",
    "    for i in range(len(dataset) - look_back - 1):\n",
    "        a = dataset[i:(i+look_back)]\n",
    "        dataY = np.vstack((dataY, a))\n",
    "    return np.array(dataY)"
   ]
  },
  {
   "cell_type": "code",
   "execution_count": 176,
   "id": "21739e89",
   "metadata": {},
   "outputs": [],
   "source": [
    "look_back = 1\n",
    "X_train = create_dataset_features(train, look_back)\n",
    "X_test = create_dataset_features(test, look_back)\n",
    "y_train = create_test(y_train, look_back)\n",
    "y_test = create_test(y_test, look_back)"
   ]
  },
  {
   "cell_type": "code",
   "execution_count": 177,
   "id": "912c29c4",
   "metadata": {},
   "outputs": [],
   "source": [
    "X_train = np.delete(X_train, 0, 0)\n",
    "y_train = np.delete(y_train, 0, 0)\n",
    "X_test = np.delete(X_test, 0, 0)\n",
    "y_test = np.delete(y_test, 0, 0)"
   ]
  },
  {
   "cell_type": "code",
   "execution_count": 178,
   "id": "5698d7c0",
   "metadata": {},
   "outputs": [],
   "source": [
    "X_train_reshape = np.reshape(X_train, (X_train.shape[0], 1, X_train.shape[1]))\n",
    "X_test_reshape = np.reshape(X_test, (X_test.shape[0], 1, X_test.shape[1]))"
   ]
  },
  {
   "cell_type": "code",
   "execution_count": 179,
   "id": "3cf702ed",
   "metadata": {},
   "outputs": [
    {
     "name": "stdout",
     "output_type": "stream",
     "text": [
      "Epoch 1/100\n",
      "54/54 - 2s - loss: 0.0587 - 2s/epoch - 45ms/step\n",
      "Epoch 2/100\n",
      "54/54 - 0s - loss: 0.0045 - 93ms/epoch - 2ms/step\n",
      "Epoch 3/100\n",
      "54/54 - 0s - loss: 0.0023 - 115ms/epoch - 2ms/step\n",
      "Epoch 4/100\n",
      "54/54 - 0s - loss: 0.0020 - 100ms/epoch - 2ms/step\n",
      "Epoch 5/100\n",
      "54/54 - 0s - loss: 0.0020 - 102ms/epoch - 2ms/step\n",
      "Epoch 6/100\n",
      "54/54 - 0s - loss: 0.0018 - 106ms/epoch - 2ms/step\n",
      "Epoch 7/100\n",
      "54/54 - 0s - loss: 0.0018 - 105ms/epoch - 2ms/step\n",
      "Epoch 8/100\n",
      "54/54 - 0s - loss: 0.0016 - 109ms/epoch - 2ms/step\n",
      "Epoch 9/100\n",
      "54/54 - 0s - loss: 0.0014 - 92ms/epoch - 2ms/step\n",
      "Epoch 10/100\n",
      "54/54 - 0s - loss: 0.0015 - 121ms/epoch - 2ms/step\n",
      "Epoch 11/100\n",
      "54/54 - 0s - loss: 0.0013 - 100ms/epoch - 2ms/step\n",
      "Epoch 12/100\n",
      "54/54 - 0s - loss: 0.0012 - 100ms/epoch - 2ms/step\n",
      "Epoch 13/100\n",
      "54/54 - 0s - loss: 0.0012 - 109ms/epoch - 2ms/step\n",
      "Epoch 14/100\n",
      "54/54 - 0s - loss: 0.0012 - 103ms/epoch - 2ms/step\n",
      "Epoch 15/100\n",
      "54/54 - 0s - loss: 0.0012 - 110ms/epoch - 2ms/step\n",
      "Epoch 16/100\n",
      "54/54 - 0s - loss: 0.0011 - 109ms/epoch - 2ms/step\n",
      "Epoch 17/100\n",
      "54/54 - 0s - loss: 0.0011 - 113ms/epoch - 2ms/step\n",
      "Epoch 18/100\n",
      "54/54 - 0s - loss: 0.0011 - 99ms/epoch - 2ms/step\n",
      "Epoch 19/100\n",
      "54/54 - 0s - loss: 0.0011 - 102ms/epoch - 2ms/step\n",
      "Epoch 20/100\n",
      "54/54 - 0s - loss: 0.0010 - 113ms/epoch - 2ms/step\n",
      "Epoch 21/100\n",
      "54/54 - 0s - loss: 0.0011 - 102ms/epoch - 2ms/step\n",
      "Epoch 22/100\n",
      "54/54 - 0s - loss: 8.6508e-04 - 111ms/epoch - 2ms/step\n",
      "Epoch 23/100\n",
      "54/54 - 0s - loss: 9.2531e-04 - 105ms/epoch - 2ms/step\n",
      "Epoch 24/100\n",
      "54/54 - 0s - loss: 9.4307e-04 - 101ms/epoch - 2ms/step\n",
      "Epoch 25/100\n",
      "54/54 - 0s - loss: 8.9543e-04 - 100ms/epoch - 2ms/step\n",
      "Epoch 26/100\n",
      "54/54 - 0s - loss: 8.9993e-04 - 117ms/epoch - 2ms/step\n",
      "Epoch 27/100\n",
      "54/54 - 0s - loss: 8.8647e-04 - 112ms/epoch - 2ms/step\n",
      "Epoch 28/100\n",
      "54/54 - 0s - loss: 8.5421e-04 - 104ms/epoch - 2ms/step\n",
      "Epoch 29/100\n",
      "54/54 - 0s - loss: 8.1874e-04 - 100ms/epoch - 2ms/step\n",
      "Epoch 30/100\n",
      "54/54 - 0s - loss: 9.4988e-04 - 111ms/epoch - 2ms/step\n",
      "Epoch 31/100\n",
      "54/54 - 0s - loss: 8.2279e-04 - 108ms/epoch - 2ms/step\n",
      "Epoch 32/100\n",
      "54/54 - 0s - loss: 8.1359e-04 - 115ms/epoch - 2ms/step\n",
      "Epoch 33/100\n",
      "54/54 - 0s - loss: 8.0815e-04 - 100ms/epoch - 2ms/step\n",
      "Epoch 34/100\n",
      "54/54 - 0s - loss: 7.6724e-04 - 102ms/epoch - 2ms/step\n",
      "Epoch 35/100\n",
      "54/54 - 0s - loss: 8.2780e-04 - 115ms/epoch - 2ms/step\n",
      "Epoch 36/100\n",
      "54/54 - 0s - loss: 6.9058e-04 - 101ms/epoch - 2ms/step\n",
      "Epoch 37/100\n",
      "54/54 - 0s - loss: 7.0962e-04 - 115ms/epoch - 2ms/step\n",
      "Epoch 38/100\n",
      "54/54 - 0s - loss: 7.7645e-04 - 102ms/epoch - 2ms/step\n",
      "Epoch 39/100\n",
      "54/54 - 0s - loss: 7.6415e-04 - 98ms/epoch - 2ms/step\n",
      "Epoch 40/100\n",
      "54/54 - 0s - loss: 6.8102e-04 - 101ms/epoch - 2ms/step\n",
      "Epoch 41/100\n",
      "54/54 - 0s - loss: 7.7879e-04 - 103ms/epoch - 2ms/step\n",
      "Epoch 42/100\n",
      "54/54 - 0s - loss: 6.1155e-04 - 110ms/epoch - 2ms/step\n",
      "Epoch 43/100\n",
      "54/54 - 0s - loss: 6.4060e-04 - 106ms/epoch - 2ms/step\n",
      "Epoch 44/100\n",
      "54/54 - 0s - loss: 7.2834e-04 - 99ms/epoch - 2ms/step\n",
      "Epoch 45/100\n",
      "54/54 - 0s - loss: 7.0309e-04 - 118ms/epoch - 2ms/step\n",
      "Epoch 46/100\n",
      "54/54 - 0s - loss: 7.2708e-04 - 133ms/epoch - 2ms/step\n",
      "Epoch 47/100\n",
      "54/54 - 0s - loss: 7.2329e-04 - 112ms/epoch - 2ms/step\n",
      "Epoch 48/100\n",
      "54/54 - 0s - loss: 6.5536e-04 - 100ms/epoch - 2ms/step\n",
      "Epoch 49/100\n",
      "54/54 - 0s - loss: 6.6727e-04 - 116ms/epoch - 2ms/step\n",
      "Epoch 50/100\n",
      "54/54 - 0s - loss: 6.2936e-04 - 100ms/epoch - 2ms/step\n",
      "Epoch 51/100\n",
      "54/54 - 0s - loss: 6.7783e-04 - 117ms/epoch - 2ms/step\n",
      "Epoch 52/100\n",
      "54/54 - 0s - loss: 6.1303e-04 - 100ms/epoch - 2ms/step\n",
      "Epoch 53/100\n",
      "54/54 - 0s - loss: 6.4747e-04 - 115ms/epoch - 2ms/step\n",
      "Epoch 54/100\n",
      "54/54 - 0s - loss: 6.3467e-04 - 100ms/epoch - 2ms/step\n",
      "Epoch 55/100\n",
      "54/54 - 0s - loss: 6.6683e-04 - 115ms/epoch - 2ms/step\n",
      "Epoch 56/100\n",
      "54/54 - 0s - loss: 6.0785e-04 - 103ms/epoch - 2ms/step\n",
      "Epoch 57/100\n",
      "54/54 - 0s - loss: 6.2059e-04 - 101ms/epoch - 2ms/step\n",
      "Epoch 58/100\n",
      "54/54 - 0s - loss: 6.1934e-04 - 98ms/epoch - 2ms/step\n",
      "Epoch 59/100\n",
      "54/54 - 0s - loss: 6.2784e-04 - 119ms/epoch - 2ms/step\n",
      "Epoch 60/100\n",
      "54/54 - 0s - loss: 6.6220e-04 - 99ms/epoch - 2ms/step\n",
      "Epoch 61/100\n",
      "54/54 - 0s - loss: 5.7635e-04 - 99ms/epoch - 2ms/step\n",
      "Epoch 62/100\n",
      "54/54 - 0s - loss: 6.0419e-04 - 117ms/epoch - 2ms/step\n",
      "Epoch 63/100\n",
      "54/54 - 0s - loss: 5.8642e-04 - 100ms/epoch - 2ms/step\n",
      "Epoch 64/100\n",
      "54/54 - 0s - loss: 5.7471e-04 - 98ms/epoch - 2ms/step\n",
      "Epoch 65/100\n",
      "54/54 - 0s - loss: 5.4710e-04 - 118ms/epoch - 2ms/step\n",
      "Epoch 66/100\n",
      "54/54 - 0s - loss: 5.9863e-04 - 103ms/epoch - 2ms/step\n",
      "Epoch 67/100\n",
      "54/54 - 0s - loss: 5.7402e-04 - 113ms/epoch - 2ms/step\n",
      "Epoch 68/100\n",
      "54/54 - 0s - loss: 5.6237e-04 - 102ms/epoch - 2ms/step\n",
      "Epoch 69/100\n",
      "54/54 - 0s - loss: 6.0515e-04 - 132ms/epoch - 2ms/step\n",
      "Epoch 70/100\n",
      "54/54 - 0s - loss: 5.9133e-04 - 138ms/epoch - 3ms/step\n",
      "Epoch 71/100\n",
      "54/54 - 0s - loss: 5.3366e-04 - 131ms/epoch - 2ms/step\n",
      "Epoch 72/100\n",
      "54/54 - 0s - loss: 5.0895e-04 - 99ms/epoch - 2ms/step\n",
      "Epoch 73/100\n",
      "54/54 - 0s - loss: 5.2636e-04 - 109ms/epoch - 2ms/step\n",
      "Epoch 74/100\n",
      "54/54 - 0s - loss: 5.7490e-04 - 102ms/epoch - 2ms/step\n",
      "Epoch 75/100\n",
      "54/54 - 0s - loss: 5.5707e-04 - 101ms/epoch - 2ms/step\n",
      "Epoch 76/100\n",
      "54/54 - 0s - loss: 5.5643e-04 - 117ms/epoch - 2ms/step\n",
      "Epoch 77/100\n",
      "54/54 - 0s - loss: 5.6018e-04 - 95ms/epoch - 2ms/step\n",
      "Epoch 78/100\n",
      "54/54 - 0s - loss: 6.0694e-04 - 123ms/epoch - 2ms/step\n",
      "Epoch 79/100\n",
      "54/54 - 0s - loss: 5.2304e-04 - 97ms/epoch - 2ms/step\n",
      "Epoch 80/100\n",
      "54/54 - 0s - loss: 5.7650e-04 - 99ms/epoch - 2ms/step\n",
      "Epoch 81/100\n",
      "54/54 - 0s - loss: 5.6110e-04 - 118ms/epoch - 2ms/step\n",
      "Epoch 82/100\n",
      "54/54 - 0s - loss: 5.5128e-04 - 98ms/epoch - 2ms/step\n",
      "Epoch 83/100\n",
      "54/54 - 0s - loss: 4.8740e-04 - 132ms/epoch - 2ms/step\n",
      "Epoch 84/100\n",
      "54/54 - 0s - loss: 5.6257e-04 - 126ms/epoch - 2ms/step\n",
      "Epoch 85/100\n",
      "54/54 - 0s - loss: 5.3165e-04 - 124ms/epoch - 2ms/step\n",
      "Epoch 86/100\n",
      "54/54 - 0s - loss: 5.7155e-04 - 117ms/epoch - 2ms/step\n",
      "Epoch 87/100\n",
      "54/54 - 0s - loss: 5.2013e-04 - 119ms/epoch - 2ms/step\n",
      "Epoch 88/100\n",
      "54/54 - 0s - loss: 5.2717e-04 - 117ms/epoch - 2ms/step\n",
      "Epoch 89/100\n",
      "54/54 - 0s - loss: 5.0377e-04 - 116ms/epoch - 2ms/step\n",
      "Epoch 90/100\n",
      "54/54 - 0s - loss: 4.9476e-04 - 127ms/epoch - 2ms/step\n",
      "Epoch 91/100\n",
      "54/54 - 0s - loss: 5.3264e-04 - 120ms/epoch - 2ms/step\n",
      "Epoch 92/100\n",
      "54/54 - 0s - loss: 5.1941e-04 - 134ms/epoch - 2ms/step\n",
      "Epoch 93/100\n",
      "54/54 - 0s - loss: 5.2272e-04 - 116ms/epoch - 2ms/step\n",
      "Epoch 94/100\n",
      "54/54 - 0s - loss: 5.1322e-04 - 110ms/epoch - 2ms/step\n",
      "Epoch 95/100\n",
      "54/54 - 0s - loss: 5.4719e-04 - 95ms/epoch - 2ms/step\n",
      "Epoch 96/100\n",
      "54/54 - 0s - loss: 5.3385e-04 - 131ms/epoch - 2ms/step\n",
      "Epoch 97/100\n",
      "54/54 - 0s - loss: 5.7086e-04 - 133ms/epoch - 2ms/step\n",
      "Epoch 98/100\n",
      "54/54 - 0s - loss: 4.9889e-04 - 109ms/epoch - 2ms/step\n",
      "Epoch 99/100\n",
      "54/54 - 0s - loss: 5.4983e-04 - 101ms/epoch - 2ms/step\n",
      "Epoch 100/100\n",
      "54/54 - 0s - loss: 5.1782e-04 - 115ms/epoch - 2ms/step\n",
      "Model: \"sequential_12\"\n",
      "_________________________________________________________________\n",
      " Layer (type)                Output Shape              Param #   \n",
      "=================================================================\n",
      " lstm_24 (LSTM)              (None, 1, 50)             11400     \n",
      "                                                                 \n",
      " dropout_24 (Dropout)        (None, 1, 50)             0         \n",
      "                                                                 \n",
      " lstm_25 (LSTM)              (None, 50)                20200     \n",
      "                                                                 \n",
      " dropout_25 (Dropout)        (None, 50)                0         \n",
      "                                                                 \n",
      " dense_12 (Dense)            (None, 1)                 51        \n",
      "                                                                 \n",
      "=================================================================\n",
      "Total params: 31,651\n",
      "Trainable params: 31,651\n",
      "Non-trainable params: 0\n",
      "_________________________________________________________________\n"
     ]
    }
   ],
   "source": [
    "model = Sequential()\n",
    "model.add(LSTM(50, input_shape=(1, 6), return_sequences=True))\n",
    "model.add(Dropout(0.2))\n",
    "model.add(LSTM(50))\n",
    "model.add(Dropout(0.2))\n",
    "model.add(Dense(1, activation = 'linear'))\n",
    "model.compile(loss='mean_squared_error', optimizer = 'adam')\n",
    "model.fit(X_train_reshape, y_train, epochs=100, batch_size = 64, verbose = 2)\n",
    "model.summary()"
   ]
  },
  {
   "cell_type": "code",
   "execution_count": 180,
   "id": "d85f9183",
   "metadata": {},
   "outputs": [
    {
     "name": "stdout",
     "output_type": "stream",
     "text": [
      "108/108 [==============================] - 1s 783us/step\n",
      "27/27 [==============================] - 0s 883us/step\n",
      "Train score: 0.01 RMSE\n",
      "Test score: 0.46 RMSE\n"
     ]
    }
   ],
   "source": [
    "# make predictions\n",
    "train_pred = model.predict(X_train_reshape)\n",
    "test_pred = model.predict(X_test_reshape)\n",
    "\n",
    "# unable to inverse transform values due to original output having 6 features\n",
    "\n",
    "# calculate RMSE\n",
    "train_score = np.sqrt(mean_squared_error(y_train, train_pred))\n",
    "print(\"Train score: %.2f RMSE\" % (train_score))\n",
    "\n",
    "test_score = np.sqrt(mean_squared_error(y_test, test_pred))\n",
    "print(\"Test score: %.2f RMSE\" % (test_score))"
   ]
  },
  {
   "cell_type": "code",
   "execution_count": 181,
   "id": "468ce653",
   "metadata": {},
   "outputs": [],
   "source": [
    "dataset_trans = mm.transform(dataset)"
   ]
  },
  {
   "cell_type": "code",
   "execution_count": 186,
   "id": "ed6215c9",
   "metadata": {},
   "outputs": [
    {
     "data": {
      "image/png": "[encoded data removed]",
      "text/plain": [
       "<Figure size 432x288 with 1 Axes>"
      ]
     },
     "metadata": {
      "needs_background": "light"
     },
     "output_type": "display_data"
    }
   ],
   "source": [
    "# shift train predictions for plotting\n",
    "train_pred_plot = np.empty_like(dataset)\n",
    "train_pred_plot[:,:] = np.nan\n",
    "train_pred_plot[look_back:len(train_pred)+look_back, :] = train_pred\n",
    "\n",
    "# shift test predictions for plotting\n",
    "test_pred_plot = np.empty_like(dataset)\n",
    "test_pred_plot[:,:] = np.nan\n",
    "test_pred_plot[len(train_pred) + (look_back*2)+1:len(dataset)-1, :] = test_pred\n",
    "\n",
    "# plot baseline and predictions\n",
    "plt.plot(dataset_trans[:,0])\n",
    "plt.plot(train_pred_plot)\n",
    "plt.plot(test_pred_plot)\n",
    "plt.show()"
   ]
  },
  {
   "cell_type": "code",
   "execution_count": null,
   "id": "0ef3ab88",
   "metadata": {},
   "outputs": [],
   "source": []
  },
  {
   "cell_type": "code",
   "execution_count": null,
   "id": "7dca0371",
   "metadata": {},
   "outputs": [],
   "source": []
  },
  {
   "cell_type": "code",
   "execution_count": null,
   "id": "cd592063",
   "metadata": {},
   "outputs": [],
   "source": []
  }
 ],
 "metadata": {
  "kernelspec": {
   "display_name": "Python 3 (ipykernel)",
   "language": "python",
   "name": "python3"
  },
  "language_info": {
   "codemirror_mode": {
    "name": "ipython",
    "version": 3
   },
   "file_extension": ".py",
   "mimetype": "text/x-python",
   "name": "python",
   "nbconvert_exporter": "python",
   "pygments_lexer": "ipython3",
   "version": "3.9.12"
  }
 },
 "nbformat": 4,
 "nbformat_minor": 5
}
